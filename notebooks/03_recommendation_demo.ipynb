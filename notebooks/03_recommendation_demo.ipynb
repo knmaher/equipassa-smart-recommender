{
 "cells": [
  {
   "cell_type": "markdown",
   "id": "38a65e49",
   "metadata": {},
   "source": [
    "# Recommendation Demo\n",
    "\n",
    "**Ziel:** Beispiel-Empfehlungen abrufen"
   ]
  },
  {
   "cell_type": "code",
   "execution_count": null,
   "id": "897f1f50",
   "metadata": {},
   "outputs": [],
   "source": [
    "import sys\n",
    "sys.path.append('..')\n",
    "import pandas as pd\n",
    "from src.recommender import CosineRecommender, build_interaction_matrix\n",
    "\n",
    "df = pd.read_csv('../data/user_tool_interactions.csv')\n",
    "R, users, tools = build_interaction_matrix(df)\n",
    "rec = CosineRecommender(R, users, tools)\n",
    "print(rec.recommend('U1', top_k=5))"
   ]
  }
 ],
 "metadata": {
  "kernelspec": {
   "display_name": "Python 3",
   "name": "python3"
  },
  "language_info": {
   "name": "python"
  }
 },
 "nbformat": 4,
 "nbformat_minor": 5
}
