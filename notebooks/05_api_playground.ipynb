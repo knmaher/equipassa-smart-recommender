{
 "cells": [
  {
   "cell_type": "markdown",
   "id": "e1085c14",
   "metadata": {},
   "source": [
    "# API Playground\n",
    "\n",
    "**Ziel:** FastAPI-Endpoint im Notebook testen"
   ]
  },
  {
   "cell_type": "code",
   "execution_count": null,
   "id": "c90209de",
   "metadata": {},
   "outputs": [],
   "source": [
    "import requests\n",
    "import pandas as pd\n",
    "\n",
    "API = 'http://localhost:8000'\n",
    "res = requests.get(f'{API}/recommend/U1?k=5')\n",
    "pd.DataFrame(res.json()['recommendations'])"
   ]
  }
 ],
 "metadata": {
  "kernelspec": {
   "display_name": "Python 3",
   "name": "python3"
  },
  "language_info": {
   "name": "python"
  }
 },
 "nbformat": 4,
 "nbformat_minor": 5
}
