{
 "cells": [
  {
   "cell_type": "markdown",
   "id": "c6e36add",
   "metadata": {},
   "source": [
    "# Matrix Creation\n",
    "\n",
    "**Ziel:** User-Tool-Matrix erstellen"
   ]
  },
  {
   "cell_type": "code",
   "execution_count": null,
   "id": "aa060ecf",
   "metadata": {},
   "outputs": [],
   "source": [
    "import pandas as pd\n",
    "import matplotlib.pyplot as plt\n",
    "\n",
    "df = pd.read_csv('../data/user_tool_interactions.csv')\n",
    "R_df = df.pivot_table(index='user_id', columns='tool_id', values='usage_count', fill_value=0)\n",
    "display(R_df.head())\n",
    "plt.imshow(R_df, aspect='auto')\n",
    "plt.title('Heatmap User-Tool Matrix')\n",
    "plt.show()"
   ]
  }
 ],
 "metadata": {
  "kernelspec": {
   "display_name": "Python 3",
   "name": "python3"
  },
  "language_info": {
   "name": "python"
  }
 },
 "nbformat": 4,
 "nbformat_minor": 5
}
