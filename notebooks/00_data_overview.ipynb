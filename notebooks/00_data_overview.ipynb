{
 "cells": [
  {
   "cell_type": "markdown",
   "id": "4d162324",
   "metadata": {},
   "source": [
    "# Data Overview\n",
    "\n",
    "**Ziel:** Erste Einblicke in die Rohdaten"
   ]
  },
  {
   "cell_type": "code",
   "execution_count": null,
   "id": "b401f62a",
   "metadata": {},
   "outputs": [],
   "source": [
    "import pandas as pd\n",
    "df = pd.read_csv('../data/user_tool_interactions.csv')\n",
    "df.head()\n",
    "df.info()\n",
    "df.describe()"
   ]
  }
 ],
 "metadata": {
  "kernelspec": {
   "display_name": "Python 3",
   "name": "python3"
  },
  "language_info": {
   "name": "python"
  }
 },
 "nbformat": 4,
 "nbformat_minor": 5
}
