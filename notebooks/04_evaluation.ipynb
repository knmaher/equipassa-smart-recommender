{
 "cells": [
  {
   "cell_type": "markdown",
   "id": "30d65761",
   "metadata": {},
   "source": [
    "# Evaluation\n",
    "\n",
    "**Ziel:** Precision@K, Recall@K messen"
   ]
  },
  {
   "cell_type": "code",
   "execution_count": null,
   "id": "3afd9839",
   "metadata": {},
   "outputs": [],
   "source": [
    "import pandas as pd\n",
    "from sklearn.model_selection import train_test_split\n",
    "from src.recommender import CosineRecommender, build_interaction_matrix\n",
    "\n",
    "df = pd.read_csv('../data/user_tool_interactions.csv')\n",
    "train, test = train_test_split(df, test_size=0.2, random_state=42)\n",
    "R_train, users, tools = build_interaction_matrix(train)\n",
    "rec = CosineRecommender(R_train, users, tools)\n",
    "\n",
    "# Hier Precision@K / Recall@K implementieren..."
   ]
  }
 ],
 "metadata": {
  "kernelspec": {
   "display_name": "Python 3",
   "name": "python3"
  },
  "language_info": {
   "name": "python"
  }
 },
 "nbformat": 4,
 "nbformat_minor": 5
}
