{
 "cells": [
  {
   "cell_type": "markdown",
   "id": "2f43a062",
   "metadata": {},
   "source": [
    "# User Similarity Heatmap\n",
    "\n",
    "**Ziel:** Cosine-Similarity visualisieren"
   ]
  },
  {
   "cell_type": "code",
   "execution_count": null,
   "id": "fdc55bb2",
   "metadata": {},
   "outputs": [],
   "source": [
    "import pandas as pd\n",
    "from sklearn.metrics.pairwise import cosine_similarity\n",
    "import matplotlib.pyplot as plt\n",
    "\n",
    "df = pd.read_csv('../data/user_tool_interactions.csv')\n",
    "R_df = df.pivot_table(index='user_id', columns='tool_id', values='usage_count', fill_value=0)\n",
    "S = cosine_similarity(R_df)\n",
    "plt.imshow(S, aspect='auto')\n",
    "plt.colorbar(label='Similarity')\n",
    "plt.title('User Similarity')\n",
    "plt.show()"
   ]
  }
 ],
 "metadata": {
  "kernelspec": {
   "display_name": "Python 3",
   "name": "python3"
  },
  "language_info": {
   "name": "python"
  }
 },
 "nbformat": 4,
 "nbformat_minor": 5
}
